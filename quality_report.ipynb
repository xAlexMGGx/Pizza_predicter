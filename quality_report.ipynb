{
 "cells": [
  {
   "cell_type": "code",
   "execution_count": 2,
   "metadata": {},
   "outputs": [],
   "source": [
    "import pandas as pd\n",
    "import xml.etree.ElementTree as ET\n",
    "from xml.dom import minidom"
   ]
  },
  {
   "cell_type": "code",
   "execution_count": 3,
   "metadata": {},
   "outputs": [],
   "source": [
    "def prettify(elem):\n",
    "    \"\"\"Return a pretty-printed XML string for the Element.\n",
    "    \"\"\"\n",
    "    rough_string = ET.tostring(elem)\n",
    "    reparsed = minidom.parseString(rough_string)\n",
    "    return reparsed.toprettyxml(indent=\"    \")\n"
   ]
  },
  {
   "cell_type": "markdown",
   "metadata": {},
   "source": [
    "# 2015"
   ]
  },
  {
   "cell_type": "code",
   "execution_count": 4,
   "metadata": {},
   "outputs": [],
   "source": [
    "pizzas = pd.read_csv('ORIGINALS/pizzas.csv')\n",
    "pizza_types = pd.read_csv('ORIGINALS/pizza_types.csv', encoding='latin-1')\n",
    "orders = pd.read_csv('ORIGINALS/orders_2015.csv')\n",
    "order_details = pd.read_csv('ORIGINALS/order_details_2015.csv')\n",
    "data_dictionary = pd.read_csv('ORIGINALS/data_dictionary.csv')"
   ]
  },
  {
   "cell_type": "code",
   "execution_count": 5,
   "metadata": {},
   "outputs": [],
   "source": [
    "data = {}\n",
    "dfs = [pizzas, pizza_types, orders, order_details, data_dictionary]\n",
    "df_names = ['pizzas', 'pizza_types', 'orders', 'order_details', 'data_dictionary']\n",
    "for idx, df in enumerate(dfs):\n",
    "    data[df_names[idx]] = {}\n",
    "    data[df_names[idx]]['length'] = df.shape[0]\n",
    "    data[df_names[idx]]['columns'] = {}\n",
    "    for column in df.columns:\n",
    "        data[df_names[idx]]['columns'][column] = {}\n",
    "        data[df_names[idx]]['columns'][column]['dtype'] = df[column].dtype\n",
    "        data[df_names[idx]]['columns'][column]['unique'] = df[column].nunique()\n",
    "        data[df_names[idx]]['columns'][column]['nulls'] = df[column].isnull().sum()"
   ]
  },
  {
   "cell_type": "code",
   "execution_count": 10,
   "metadata": {},
   "outputs": [],
   "source": [
    "root1 = ET.Element('data')\n",
    "for df_name in df_names:\n",
    "    df = ET.SubElement(root1, df_name)\n",
    "    for column in data[df_name]['columns']:\n",
    "        col = ET.SubElement(df, column)\n",
    "        for key in data[df_name]['columns'][column]:\n",
    "            ET.SubElement(col, key).text = str(data[df_name]['columns'][column][key])\n",
    "\n",
    "with open('data_report_2015.xml', 'w') as f:\n",
    "    f.write(prettify(root1))"
   ]
  },
  {
   "cell_type": "markdown",
   "metadata": {},
   "source": [
    "# 2016"
   ]
  },
  {
   "cell_type": "code",
   "execution_count": 7,
   "metadata": {},
   "outputs": [],
   "source": [
    "pizzas = pd.read_csv('ORIGINALS/pizzas.csv')\n",
    "pizza_types = pd.read_csv('ORIGINALS/pizza_types.csv', encoding='latin-1')\n",
    "orders = pd.read_csv('ORIGINALS/orders_2016.csv', sep=';')\n",
    "order_details = pd.read_csv('ORIGINALS/order_details_2016.csv', sep=';', encoding='latin-1')\n",
    "data_dictionary = pd.read_csv('ORIGINALS/data_dictionary.csv')"
   ]
  },
  {
   "cell_type": "code",
   "execution_count": 8,
   "metadata": {},
   "outputs": [],
   "source": [
    "data = {}\n",
    "dfs = [pizzas, pizza_types, orders, order_details, data_dictionary]\n",
    "df_names = ['pizzas', 'pizza_types', 'orders', 'order_details', 'data_dictionary']\n",
    "for idx, df in enumerate(dfs):\n",
    "    data[df_names[idx]] = {}\n",
    "    data[df_names[idx]]['length'] = df.shape[0]\n",
    "    data[df_names[idx]]['columns'] = {}\n",
    "    for column in df.columns:\n",
    "        data[df_names[idx]]['columns'][column] = {}\n",
    "        data[df_names[idx]]['columns'][column]['dtype'] = df[column].dtype\n",
    "        data[df_names[idx]]['columns'][column]['unique'] = df[column].nunique()\n",
    "        data[df_names[idx]]['columns'][column]['nulls'] = df[column].isnull().sum()\n"
   ]
  },
  {
   "cell_type": "code",
   "execution_count": 9,
   "metadata": {},
   "outputs": [],
   "source": [
    "root2 = ET.Element('data')\n",
    "for df_name in df_names:\n",
    "    df = ET.SubElement(root2, df_name)\n",
    "    for column in data[df_name]['columns']:\n",
    "        col = ET.SubElement(df, column)\n",
    "        for key in data[df_name]['columns'][column]:\n",
    "            ET.SubElement(col, key).text = str(data[df_name]['columns'][column][key])\n",
    "\n",
    "with open('data_report_2016.xml', 'w') as f:\n",
    "    f.write(prettify(root2))\n"
   ]
  }
 ],
 "metadata": {
  "kernelspec": {
   "display_name": "Python 3.9.13 64-bit (microsoft store)",
   "language": "python",
   "name": "python3"
  },
  "language_info": {
   "codemirror_mode": {
    "name": "ipython",
    "version": 3
   },
   "file_extension": ".py",
   "mimetype": "text/x-python",
   "name": "python",
   "nbconvert_exporter": "python",
   "pygments_lexer": "ipython3",
   "version": "3.9.13"
  },
  "orig_nbformat": 4,
  "vscode": {
   "interpreter": {
    "hash": "8f12ac73a664481df0f19cabf9db6d6a7ad32c068574f961cd284c34d9a5f380"
   }
  }
 },
 "nbformat": 4,
 "nbformat_minor": 2
}
